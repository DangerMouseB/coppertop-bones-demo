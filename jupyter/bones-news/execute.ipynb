{
 "cells": [
  {
   "cell_type": "code",
   "execution_count": 1,
   "id": "727ea4b1-9d3e-4d9a-aff5-468af821f806",
   "metadata": {},
   "outputs": [
    {
     "name": "stdout",
     "output_type": "stream",
     "text": [
      "\n",
      "<litint:4>\n"
     ]
    }
   ],
   "source": [
    "load snibs.core\n",
    "from snibs.core import +, *, ifTrue:ifFalse:, true, false, ==, join\n",
    "x: 1 + 1               \n",
    "y: 2                  \n",
    "x * y"
   ]
  },
  {
   "cell_type": "code",
   "execution_count": 2,
   "id": "7159a480-0182-4c9a-80e5-478f9ec4e85f",
   "metadata": {},
   "outputs": [
    {
     "name": "stdout",
     "output_type": "stream",
     "text": [
      "\n",
      "<T1+T2:\"True\">\n"
     ]
    }
   ],
   "source": [
    "1 == 1 ifTrue: \"True\" ifFalse: 0"
   ]
  },
  {
   "cell_type": "code",
   "execution_count": 3,
   "id": "3c73d44c-14c5-4fdc-afd5-936498f84598",
   "metadata": {},
   "outputs": [
    {
     "name": "stdout",
     "output_type": "stream",
     "text": [
      "\n",
      "  2:  ((T1^T2 & T3^T4) * bool * T1 * T3) ^ T2+T4\n",
      "  3:  T1^T1\n",
      "  4:  litint+litdec+num+index ^ litint+litdec+num+index\n",
      "  5:  txt^txt & (litint+litdec+num+index ^ litint+litdec+num+index)\n",
      "  6:  litint+littxt\n",
      "  7:  litint+litdec+txt+num+index\n",
      "\n"
     ]
    }
   ],
   "source": [
    "%%types, norun\n",
    "hoo: {x ifTrue: f(y) ifFalse: f(z)}\n",
    "id: {x}\n",
    "addThree: {x + 3}\n",
    "addThree: {join(x, \"Three\")}\n",
    "hoo(id, true, 1, \"Two\")\n",
    "hoo(addThree, true, 1, \"Two\")"
   ]
  },
  {
   "cell_type": "code",
   "execution_count": null,
   "id": "201cbe1b-ae4e-4427-8176-79bdccc3791f",
   "metadata": {},
   "outputs": [],
   "source": []
  }
 ],
 "metadata": {
  "kernelspec": {
   "display_name": "bones",
   "language": "bones",
   "name": "bones"
  },
  "language_info": {
   "mimetype": "text/plain",
   "name": "multi_kernel"
  }
 },
 "nbformat": 4,
 "nbformat_minor": 5
}
