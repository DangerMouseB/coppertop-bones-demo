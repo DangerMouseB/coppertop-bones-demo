{
 "cells": [
  {
   "cell_type": "code",
   "execution_count": 1,
   "metadata": {},
   "outputs": [],
   "source": [
    "from coppertop.core import ensurePath, unload\n",
    "'/Users/david/repos/github/DangerMouseB/coppertop/src/std' >> ensurePath       # <= set this to your path\n",
    "'/Users/david/repos/github/DangerMouseB/examples/src/dm' >> ensurePath       # <= set this to your path\n",
    "from importlib import reload"
   ]
  },
  {
   "cell_type": "markdown",
   "metadata": {},
   "source": [
    "See README.md for notes on usage of coppertop."
   ]
  },
  {
   "cell_type": "code",
   "execution_count": 2,
   "metadata": {},
   "outputs": [],
   "source": [
    "%matplotlib inline\n",
    "import matplotlib.pyplot as plt, numpy as np"
   ]
  },
  {
   "cell_type": "code",
   "execution_count": 3,
   "metadata": {},
   "outputs": [],
   "source": [
    "from coppertop.pipe import *\n",
    "from coppertop.core import RR, DD, HH, LL, TT #, SS for str\n",
    "from bones.lang.metatypes import BType\n",
    "from ribs.types import T, T1, T2, T3, num, txt\n",
    "from dm.core import format, kvs, join, values, _, inject, each, keys, values, typeOf, at\n",
    "from dm.core.maths import max, min\n",
    "from dm.core.types import adhoc, pytuple, pylist\n",
    "from dm.core.stats import logisticCDF\n",
    "from dm.pmf import pmfMul, normalise, uniform, sequence, mean, PMF, L, to, CMF, toCmf, percentile\n",
    "from dm.utils import formatStruct"
   ]
  },
  {
   "cell_type": "code",
   "execution_count": 4,
   "metadata": {},
   "outputs": [],
   "source": [
    "formatPmf = formatStruct(_, 'PMF', '.3f', '.3f', ', ')\n",
    "formatL = formatStruct(_, 'L', '.3f', '.3f', ', ')\n",
    "formatCmf = formatStruct(_, 'L', '.3f', '.3f', ', ')\n",
    "\n",
    "@coppertop\n",
    "def _PP(x):\n",
    "    print(x)\n",
    "    return x\n",
    "\n",
    "@coppertop\n",
    "def PP(x):\n",
    "    return x >> _PP\n",
    "\n",
    "@coppertop\n",
    "def PP(x, f):\n",
    "    f(x) >> _PP\n",
    "    return x\n",
    "\n",
    "@coppertop\n",
    "def PP(x:L):\n",
    "    x >> formatL >> _PP\n",
    "    return x\n",
    "\n",
    "@coppertop\n",
    "def PP(x:PMF):\n",
    "    x >> formatPmf >> _PP\n",
    "    return x\n",
    "\n",
    "@coppertop\n",
    "def PP(x:CMF):\n",
    "    x >> formatCmf >> _PP\n",
    "    return x"
   ]
  },
  {
   "cell_type": "markdown",
   "metadata": {},
   "source": [
    "<br>\n",
    "\n",
    "#### Bayes Refresher\n",
    "\n",
    "from PROP 3\n",
    "$$\n",
    "\\begin{align}\n",
    "\\mathbf{P}\\left(B \\cap A\\right) = \\mathbf{P}\\left(B\\mathbin{\\vert}A\\right)\\cdot \\mathbf{P}\\left(A\\right)\\\\\n",
    "\\end{align}\n",
    "$$\n",
    "\n",
    "and obviously\n",
    "$$\\mathbf{P}(A \\cap B) = \\mathbf{P}(B \\cap A)$$\n",
    "\n",
    "so\n",
    "$$\n",
    "\\begin{align}\n",
    "\\mathbf{P}( A\\mathbin{\\vert}B) \\cdot \\mathbf{P}(B)=\\mathbf{P}(B\\mathbin{\\vert}A)\\cdot \\mathbf{P}(A)\n",
    "\\end{align}\n",
    "$$\n",
    "\n",
    "aka\n",
    "$$\n",
    "\\begin{align}\n",
    "\\mathbf{P}( hypothesis\\mathbin{\\vert}data) \\cdot \\mathbf{P}(data)=\\mathbf{P}(data\\mathbin{\\vert}hypothesis)\\cdot \\mathbf{P}(hypothesis)\n",
    "\\end{align}\n",
    "$$\n",
    "\n",
    "Comtemporaneous (look it up) version, i.e. after some data is known\n",
    "$$\n",
    "\\begin{align}\n",
    "posterior =likelihood\\cdot prior \\cdot constant\n",
    "\\end{align}\n",
    "$$"
   ]
  },
  {
   "cell_type": "markdown",
   "metadata": {},
   "source": [
    "<br>\n",
    "\n",
    "#### 1.6 The M&M Problem\n",
    "\n",
    "M&M’s are small candy-coated chocolates that come in a variety of colors.\n",
    "Mars, Inc., which makes M&M’s, changes the mixture of colors from time\n",
    "to time.\n",
    "\n",
    "In 1995, they introduced blue M&M’s. Before then, the color mix in a bag\n",
    "of plain M&M’s was 30% Brown, 20% Yellow, 20% Red, 10% Green, 10%\n",
    "Orange, 10% Tan. Afterward it was 24% Blue , 20% Green, 16% Orange,\n",
    "14% Yellow, 13% Red, 13% Brown.\n",
    "\n",
    "Suppose a friend of mine has two bags of M&M’s, and he tells me that one\n",
    "is from 1994 and one from 1996. He won’t tell me which is which, but he\n",
    "gives me one M&M from each bag. One is yellow and one is green. What is\n",
    "the probability that the yellow one came from the 1994 bag?"
   ]
  },
  {
   "cell_type": "code",
   "execution_count": 5,
   "metadata": {},
   "outputs": [
    {
     "name": "stdout",
     "output_type": "stream",
     "text": [
      "PMF(Brown=0.300, Yellow=0.200, Red=0.200, Green=0.100, Orange=0.100, Tan=0.100)\n",
      "PMF(Brown=0.130, Yellow=0.140, Red=0.130, Green=0.200, Orange=0.160, Blue=0.240)\n"
     ]
    }
   ],
   "source": [
    "bag1994 = PMF(Brown=30, Yellow=20, Red=20, Green=10, Orange=10, Tan=10)\n",
    "bag1996 = PMF(Brown=13, Yellow=14, Red=13, Green=20, Orange=16, Blue=24)\n",
    "[bag1994, bag1996] >> each >> (lambda pmf: pmf >> PP);"
   ]
  },
  {
   "cell_type": "markdown",
   "metadata": {},
   "source": [
    "hypA -> yellow is from 1994, green is from 1996\\\n",
    "hypB -> green is from 1994, yellow is from 1996"
   ]
  },
  {
   "cell_type": "code",
   "execution_count": 6,
   "metadata": {},
   "outputs": [
    {
     "name": "stdout",
     "output_type": "stream",
     "text": [
      "PMF(hypA=0.500, hypB=0.500)\n",
      "L(hypA=0.040, hypB=0.014)\n",
      "PMF(hypA=0.741, hypB=0.259)\n"
     ]
    },
    {
     "data": {
      "text/plain": [
       "0.7407407407407407"
      ]
     },
     "execution_count": 6,
     "metadata": {},
     "output_type": "execute_result"
    }
   ],
   "source": [
    "prior = PMF(hypA=0.5, hypB=0.5) >> PP\n",
    "\n",
    "likelihood = L(\n",
    "    hypA=bag1994.Yellow * bag1996.Green, \n",
    "    hypB=bag1994.Green * bag1996.Yellow\n",
    ") >> PP\n",
    "\n",
    "post = prior >> pmfMul >> likelihood >> normalise\n",
    "post >> PP\n",
    "\n",
    "20/27"
   ]
  },
  {
   "cell_type": "markdown",
   "metadata": {},
   "source": [
    "<br>\n",
    "\n",
    "#### 1.7 The Monty Hall problem\n",
    "\n",
    "Monty Hall was the original host of the game show Let’s Make a Deal. The\n",
    "Monty Hall problem is based on one of the regular games on the show. If\n",
    "you are on the show, here’s what happens:\n",
    "\n",
    "• Monty shows you three closed doors and tells you that there is a prize\n",
    "behind each door: one prize is a car, the other two are less valuable\n",
    "prizes like peanut butter and fake finger nails. The prizes are arranged\n",
    "at random.\n",
    "\n",
    "• The object of the game is to guess which door has the car. If you guess\n",
    "right, you get to keep the car.\n",
    "\n",
    "• You pick a door, which we will call Door A. We’ll call the other doors\n",
    "B and C.\n",
    "\n",
    "• Before opening the door you chose, Monty increases the suspense by\n",
    "opening either Door B or C, whichever does not have the car. (If the\n",
    "car is actually behind Door A, Monty can safely open B or C, so he\n",
    "chooses one at random.)\n",
    "\n",
    "• Then Monty offers you the option to stick with your original choice or\n",
    "switch to the one remaining unopened door.\n",
    "\n",
    "The question is, should you “stick” or “switch” or does it make no difference?"
   ]
  },
  {
   "cell_type": "markdown",
   "metadata": {},
   "source": [
    "**Minor reframe**\n",
    "\n",
    "Let A be the door we initially choose at random \\\n",
    "Let B be the door Monty selects to show us to be without a car \\\n",
    "Let C be the other door we can choose after the fact"
   ]
  },
  {
   "cell_type": "code",
   "execution_count": 7,
   "metadata": {},
   "outputs": [
    {
     "name": "stdout",
     "output_type": "stream",
     "text": [
      "PMF(A=0.333, B=0.000, C=0.667)\n"
     ]
    }
   ],
   "source": [
    "prior = PMF(A=1, B=1, C=1)\n",
    "likelihood = L(   # i.e. likelihood of monty opening B given that the car is behind each, i.e. p(data|hyp)\n",
    "    A=0.5,      # prob of opening B if behind A - he can choose at random so 50:50\n",
    "    B=0,        # prob of opening B if behind B - Monty can't open B else he'd reveal the car, so cannot open B => 0%\n",
    "    C=1,        # prob of opening B if behind C - Monty can't open C else he'd reveal the car, so must open B => 100%\n",
    ")\n",
    "posterior = prior >> pmfMul >> likelihood >> normalise\n",
    "posterior >> PP;"
   ]
  },
  {
   "cell_type": "markdown",
   "metadata": {},
   "source": [
    "#### 1.8 Discussion\n",
    "If the Monty Hall problem is your idea of fun, I have collected a num- ber of similar problems in an article called “All your Bayes are belong to us,” which you can read at http://allendowney.blogspot.com/2011/10/ all-your-bayes-are-belong-to-us.html."
   ]
  },
  {
   "cell_type": "markdown",
   "metadata": {},
   "source": [
    "<br>\n",
    "\n",
    "#### 2.8 Exercises\n",
    "\n",
    "**Exercise 2.1.** In Section 2.3 I said that the solution to the cookie problem generalizes to the case where we draw multiple cookies with replacement.\n",
    "\n",
    "But in the more likely scenario where we eat the cookies we draw, the likelihood of each draw depends on the previous draws.\n",
    "\n",
    "Modify the solution in this chapter to handle selection without replacement. Hint: add instance variables to Cookie to represent the hypothetical state of the bowls, and modify Likelihood accordingly. You might want to define a Bowl object."
   ]
  },
  {
   "cell_type": "code",
   "execution_count": 8,
   "metadata": {},
   "outputs": [],
   "source": [
    "@coppertop\n",
    "def withAttr(s, name, value):\n",
    "    s = adhoc(s)\n",
    "    s[name] = value\n",
    "    return s"
   ]
  },
  {
   "cell_type": "code",
   "execution_count": 9,
   "metadata": {},
   "outputs": [
    {
     "name": "stdout",
     "output_type": "stream",
     "text": [
      "V: PMF(J1=0.600, J2=0.400) ([adhoc(V=29, C=10, tag='J1'), adhoc(V=19, C=20, tag='J2')])\n",
      "C: PMF(J1=0.429, J2=0.571) ([adhoc(V=29, C=9, tag='J1'), adhoc(V=19, C=19, tag='J2')])\n"
     ]
    }
   ],
   "source": [
    "@coppertop\n",
    "def jarLikelihood(jarsStates, flavour):\n",
    "    return jarsStates >> each >> (lambda j: (j >> at(_,'tag'), j[flavour])) >> to(_,L)\n",
    "\n",
    "@coppertop\n",
    "def jarUpdate(jarsStateAndPrior, flavour):\n",
    "    jarsState, prior = jarsStateAndPrior\n",
    "    posterior = prior >> pmfMul >> jarLikelihood(jarsState, flavour) >> normalise\n",
    "    jarsState = jarsState >> each >> (lambda s: s >> withAttr(_, flavour, s[flavour] - 1))\n",
    "    f'{flavour}: {posterior >> formatPmf} ({jarsState})' >> PP\n",
    "    return (jarsState, posterior)\n",
    "\n",
    "modelState = [adhoc(V=30, C=10, tag='J1'), adhoc(V=20, C=20, tag='J2')]\n",
    "data = ['V', 'C']\n",
    "\n",
    "(modelState, PMF(J1=0.5, J2=0.5)) >> inject(data, _, _) >> jarUpdate;"
   ]
  },
  {
   "cell_type": "markdown",
   "metadata": {},
   "source": [
    "<br>\n",
    "\n",
    "#### 3.1 The dice problem\n",
    "\n",
    "Suppose I have a box of dice that contains a 4-sided die, a 6-sided die, an 8-sided die, a 12-sided die, and a 20-sided die. If you have ever played Dungeons & Dragons, you know what I am talking about.\n",
    "\n",
    "Suppose I select a die from the box at random, roll it, and get a 6. What is the probability that I rolled each die?"
   ]
  },
  {
   "cell_type": "code",
   "execution_count": 10,
   "metadata": {},
   "outputs": [],
   "source": [
    "# normalise >> sig"
   ]
  },
  {
   "cell_type": "code",
   "execution_count": 11,
   "metadata": {},
   "outputs": [
    {
     "name": "stdout",
     "output_type": "stream",
     "text": [
      "PMF(d4=0.200, d6=0.200, d8=0.200, d12=0.200, d20=0.200)\n",
      "L(d4=0.000, d6=0.167, d8=0.125, d12=0.083, d20=0.050)\n",
      "PMF(d4=0.000, d6=0.392, d8=0.294, d12=0.196, d20=0.118)\n"
     ]
    }
   ],
   "source": [
    "@coppertop\n",
    "def diceLikelihood(rvs, val):\n",
    "    tagLikePairs = rvs >> each >> (lambda rv: (rv.tag, rv._get(val, 0.0)))\n",
    "    return L(tagLikePairs)\n",
    "\n",
    "d4 = (sequence(1, 4) >> uniform)(tag='d4')\n",
    "d6 = (sequence(1, 6) >> uniform)(tag='d6')\n",
    "d8 = (sequence(1, 8) >> uniform)(tag='d8')\n",
    "d12 = (sequence(1, 12) >> uniform)(tag='d12')\n",
    "d20 = (sequence(1, 20) >> uniform)(tag='d20')\n",
    "\n",
    "modelState = [d4, d6, d8, d12, d20]\n",
    "prior = PMF(d4=1, d6=1, d8=1, d12=1, d20=1)\n",
    "prior >> PP(_,formatPmf) >> pmfMul >> (diceLikelihood(modelState, 6) >> PP(_,formatL)) >> normalise >> PP(_,formatPmf);"
   ]
  },
  {
   "cell_type": "code",
   "execution_count": 12,
   "metadata": {},
   "outputs": [
    {
     "name": "stdout",
     "output_type": "stream",
     "text": [
      "PMF(d4=0.000, d6=0.392, d8=0.294, d12=0.196, d20=0.118)\n",
      "PMF(d4=0.000, d6=0.526, d8=0.296, d12=0.131, d20=0.047)\n",
      "PMF(d4=0.000, d6=0.000, d8=0.735, d12=0.218, d20=0.047)\n",
      "PMF(d4=0.000, d6=0.000, d8=0.818, d12=0.161, d20=0.021)\n",
      "PMF(d4=0.000, d6=0.000, d8=0.876, d12=0.115, d20=0.009)\n",
      "PMF(d4=0.000, d6=0.000, d8=0.916, d12=0.080, d20=0.004)\n",
      "PMF(d4=0.000, d6=0.000, d8=0.943, d12=0.055, d20=0.002)\n"
     ]
    }
   ],
   "source": [
    "@coppertop\n",
    "def diceUpdate(prior, modelState, data):\n",
    "    posterior = prior >> pmfMul >> diceLikelihood(modelState, data) >> normalise\n",
    "    return posterior >> PP(_, formatPmf)\n",
    "\n",
    "[6, 6, 8, 7, 7, 5, 4] >> inject(_, prior, _) >> diceUpdate(_, modelState, _);"
   ]
  },
  {
   "cell_type": "code",
   "execution_count": 13,
   "metadata": {},
   "outputs": [],
   "source": [
    "@coppertop\n",
    "def toSteps(s:PMF+adhoc, **kwargs) -> pytuple:\n",
    "    return asSteps(s >> keys, s >> values, **kwargs)\n",
    "\n",
    "@coppertop\n",
    "def asSteps(xs:pylist, ys:pylist, align='center', width=None):\n",
    "    #xMin, xMax = min(xs), max(xs)\n",
    "    if width is None:\n",
    "        width = np.diff(xs).min()\n",
    "    points = []\n",
    "    lastx = np.nan\n",
    "    lasty = np.nan\n",
    "    for x, y in zip(xs, ys):\n",
    "        if (x - lastx) > 1e-5:\n",
    "            points.append((lastx, 0))\n",
    "            points.append((x, 0))\n",
    "        if not np.isnan(lasty):\n",
    "            points.append((x, lasty))\n",
    "        points.append((x, y))\n",
    "        points.append((x + width, y))\n",
    "        lastx = x + width\n",
    "        lasty = y\n",
    "    points.append((lastx, lasty))\n",
    "    pxs, pys = zip(*points)\n",
    "    if align == 'center':\n",
    "        pxs = np.array(pxs) - width / 2.0\n",
    "    elif align == 'right':\n",
    "        pxs = np.array(pxs) - width\n",
    "    return pxs, np.array(pys)"
   ]
  },
  {
   "cell_type": "markdown",
   "metadata": {},
   "source": [
    "<br>\n",
    "\n",
    "#### 3.2 The locomotive problem\n",
    "\n",
    "A railroad numbers its locomotives in order 1..N. One day you see a locomotive with the number 60. Estimate how many locomotives the railroad has."
   ]
  },
  {
   "cell_type": "markdown",
   "metadata": {},
   "source": [
    "**Notes**\n",
    "\n",
    "The railroad has more than 1000 locomotives \\\n",
    "If the railroad has N locomotives then the chance of seeing a particular locomotive is uniformly distributed with P = 1/N \\\n",
    "See http://en.wikipedia.org/wiki/Minimum_mean_square_error"
   ]
  },
  {
   "cell_type": "code",
   "execution_count": 14,
   "metadata": {},
   "outputs": [
    {
     "name": "stdout",
     "output_type": "stream",
     "text": [
      "numsEtAl&_PMF&tvstruct(a=0.5, b=0.5)\n"
     ]
    }
   ],
   "source": [
    "with context(showFullType=True):\n",
    "    repr(PMF(a=1,b=1)) >> PP"
   ]
  },
  {
   "cell_type": "code",
   "execution_count": 15,
   "metadata": {},
   "outputs": [
    {
     "data": {
      "text/plain": [
       "[0.005905417875729855, 0.005905417875729855, 0.0, 333.41989326370776]"
      ]
     },
     "execution_count": 15,
     "metadata": {},
     "output_type": "execute_result"
    }
   ],
   "source": [
    "prior = (sequence(1, 1000) >> uniform)\n",
    "data = 60\n",
    "\n",
    "@coppertop\n",
    "def railroadLikehood(N, ob):\n",
    "    return (sequence(1, N) >> each >> (lambda hyp: \n",
    "        (hyp, 0) if hyp < ob else (hyp, 1 / hyp)) >> to(_,adhoc)\n",
    "    ) | L\n",
    "\n",
    "likelihood = railroadLikehood(1000, data)\n",
    "posterior = prior >> pmfMul >> likelihood >> normalise\n",
    "\n",
    "[posterior \\\n",
    "     >> values \\\n",
    "     >> max, posterior[60], posterior[59], \n",
    "     posterior \\\n",
    "     >> mean\n",
    "]"
   ]
  },
  {
   "cell_type": "code",
   "execution_count": 16,
   "metadata": {},
   "outputs": [
    {
     "data": {
      "image/png": "[encoded data removed]",
      "text/plain": [
       "<Figure size 432x288 with 1 Axes>"
      ]
     },
     "metadata": {
      "needs_background": "light"
     },
     "output_type": "display_data"
    }
   ],
   "source": [
    "### fig = plt.figure(figsize=(5, 5), dpi= 80, facecolor='w', edgecolor='k')\n",
    "plt.plot(*(posterior >> toSteps));"
   ]
  },
  {
   "cell_type": "markdown",
   "metadata": {},
   "source": [
    "hmmm... that's quite a heavy tail..."
   ]
  },
  {
   "cell_type": "code",
   "execution_count": 17,
   "metadata": {},
   "outputs": [
    {
     "data": {
      "text/plain": [
       "[132.8721992622349,\n",
       " 207.0792279834104,\n",
       " 333.41989326370776,\n",
       " 552.1790171646376,\n",
       " 936.5079113977753]"
      ]
     },
     "execution_count": 17,
     "metadata": {},
     "output_type": "execute_result"
    }
   ],
   "source": [
    "[250, 500, 1000, 2000, 4000] >> each >> (lambda N: \n",
    "    (sequence(1, N) >> uniform) \n",
    "        >> pmfMul \n",
    "        >> railroadLikehood(N, data)\n",
    "        >> normalise \n",
    "        >> mean\n",
    ")"
   ]
  },
  {
   "cell_type": "markdown",
   "metadata": {},
   "source": [
    "#### 3.4 An alternative prior\n",
    "\n",
    "In fact, the distribution of company sizes tends to follow a power law, as Robert Axtell reports in Science (see http://www.sciencemag.org/content/293/5536/1818.full.pdf)"
   ]
  },
  {
   "cell_type": "code",
   "execution_count": 18,
   "metadata": {},
   "outputs": [
    {
     "data": {
      "image/png": "[encoded data removed]",
      "text/plain": [
       "<Figure size 400x400 with 1 Axes>"
      ]
     },
     "metadata": {},
     "output_type": "display_data"
    }
   ],
   "source": [
    "@coppertop\n",
    "def powerLawPrior(n, alpha):\n",
    "    return sequence(1, 1000) >> each >> (lambda hyp: (hyp, hyp**(-alpha))) >> to(_,adhoc) >> normalise\n",
    "\n",
    "fig = plt.figure(figsize=(5, 5), dpi= 80, facecolor='w', edgecolor='k')\n",
    "plt.plot(*(1000 >> powerLawPrior(_, 1) >> toSteps));"
   ]
  },
  {
   "cell_type": "markdown",
   "metadata": {},
   "source": [
    "#### 3.5 Credible intervals"
   ]
  },
  {
   "cell_type": "code",
   "execution_count": 19,
   "metadata": {},
   "outputs": [
    {
     "data": {
      "text/plain": [
       "[[91, 123.52471977274632, 199],\n",
       " [91, 132.31912378592563, 241],\n",
       " [91, 135.34103113413445, 250],\n",
       " [91, 135.34103113413445, 250],\n",
       " [91, 135.34103113413445, 250]]"
      ]
     },
     "execution_count": 19,
     "metadata": {},
     "output_type": "execute_result"
    }
   ],
   "source": [
    "observations = [30, 60, 90]\n",
    "Ns = [250, 500, 1000, 2000, 4000]\n",
    "\n",
    "Ns >> each >> (lambda N: \n",
    "    powerLawPrior(N, 0.9)\n",
    "        >> inject(observations, _, _) >> (lambda prior, ob:\n",
    "            prior\n",
    "                >> pmfMul \n",
    "                >> railroadLikehood(N, ob)\n",
    "                >> normalise \n",
    "        )\n",
    "        >> anon(lambda pmf: [pmf >> percentile(_,0.05), pmf >> mean, pmf >> percentile(_,0.95)])\n",
    ")"
   ]
  },
  {
   "cell_type": "code",
   "execution_count": null,
   "metadata": {},
   "outputs": [],
   "source": []
  },
  {
   "cell_type": "code",
   "execution_count": null,
   "metadata": {},
   "outputs": [],
   "source": []
  },
  {
   "cell_type": "code",
   "execution_count": null,
   "metadata": {},
   "outputs": [],
   "source": []
  },
  {
   "cell_type": "markdown",
   "metadata": {},
   "source": [
    "IDEAL ERRORS"
   ]
  },
  {
   "cell_type": "markdown",
   "metadata": {
    "tags": []
   },
   "source": [
    "\"hello\" >> toCmf"
   ]
  },
  {
   "cell_type": "markdown",
   "metadata": {},
   "source": [
    "```\n",
    "Can't find toCmf(str) in:\n",
    "  toCmf(pmf:(adhoc + (t514 & _numEtAl & _PMF))) in dm.pmf\n",
    "```\n",
    "\n",
    "ideally\n",
    "\n",
    "```\n",
    "DispatchError: Can't find toCmf(str) in:\n",
    "  toCmf(pmf:PMF+adhoc) -> any    in dm.pmf[176]\n",
    "---------------------------------------------------------------------------\n",
    "Traceback (most recent call last)\n",
    "\n",
    "<ipython-input-26-8a7f9c734ab9> in <module>\n",
    "----> 1 \"hello\" >> toCmf\n",
    "```"
   ]
  },
  {
   "cell_type": "code",
   "execution_count": null,
   "metadata": {},
   "outputs": [],
   "source": []
  }
 ],
 "metadata": {
  "kernelspec": {
   "display_name": "Python 3 (ipykernel)",
   "language": "python",
   "name": "python3"
  },
  "language_info": {
   "codemirror_mode": {
    "name": "ipython",
    "version": 3
   },
   "file_extension": ".py",
   "mimetype": "text/x-python",
   "name": "python",
   "nbconvert_exporter": "python",
   "pygments_lexer": "ipython3",
   "version": "3.9.13"
  }
 },
 "nbformat": 4,
 "nbformat_minor": 4
}
