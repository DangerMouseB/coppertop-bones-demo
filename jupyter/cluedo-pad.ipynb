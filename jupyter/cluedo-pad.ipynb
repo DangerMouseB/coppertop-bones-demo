{
 "cells": [
  {
   "cell_type": "code",
   "execution_count": 1,
   "metadata": {},
   "outputs": [],
   "source": [
    "from coppertop.core import *\n",
    "from coppertop.pipe import *\n",
    "from dm.examples.cluedo.cards import *\n",
    "from dm.examples.cluedo.core import one\n",
    "from dm.examples.cluedo.algos import createBag, figureKnown, processResponses, cluedo_bag, processSuggestions\n",
    "from dm.examples.cluedo.reports import rep1\n",
    "from dm.examples.cluedo.core import cluedo_bag, YES, NO, MAYBE, TBI, HasOne\n",
    "\n",
    "from dm.core import to, each, joinAll, keys, append, select, count, combinations, nCombinations, combinationsR, \\\n",
    "    nCombinationsR, buffer, divide, sum, drop, nPermutations, PP\n",
    "from dm.examples.cluedo.utils import minus, countIf\n",
    "from ribs.types import pytuple\n",
    "\n",
    "__ = Scope()"
   ]
  },
  {
   "cell_type": "markdown",
   "metadata": {},
   "source": [
    "#### CLUEDO - THE GAME\n",
    "\n",
    "There are three sets of cards representing the who, with what and where of a murder. One is taken from Players move around a board\n",
    "\n",
    "\n",
    "#### MODELLING THE PAD\n",
    "\n",
    "Much of the information leads to mechanical deduction rather than probabilistic deduction. Many of the probabilities \n",
    "we think of are uncondictional rather than conditional. \n",
    "\n",
    "I can think of a few things we can model - the probability of which hand a card must be in must sum to one. However because of the way the cards are shuffled there are twists - e.g. in the TBI hand adds a thread which run accross all the cards and although we can find PMFs we have to think deeper to find independent PMF.\n",
    "\n",
    "\n",
    "I've implemented a combination PMF of a hand - as to the observer all possibilities are equally likely - actuall not true a hand with 6 suspects or weapons is impossible as one must be in the TBI.\n",
    "\n",
    "So the only true model is the arrangements when 1 from each group is given to TBI - and each hand has combinations of the remainder - so (1 out of 6) x (1 out of 6) x (1 out of 9) x C(numCard, 5+5+8)\n"
   ]
  },
  {
   "cell_type": "code",
   "execution_count": 2,
   "metadata": {},
   "outputs": [
    {
     "data": {
      "text/plain": [
       "250092722880"
      ]
     },
     "execution_count": 2,
     "metadata": {},
     "output_type": "execute_result"
    }
   ],
   "source": [
    "# total combinations - 250 billion\n",
    "# 21 card less 3 for TBI -> 18, 4 hands -> 5, 5, 4, 4\n",
    "324 * (18 >> nCombinations >> 5) * (13 >> nCombinations >> 5) * (8 >> nCombinations >> 4) * (4 >> nCombinations >> 4)"
   ]
  },
  {
   "cell_type": "code",
   "execution_count": 3,
   "metadata": {},
   "outputs": [
    {
     "name": "stdout",
     "output_type": "stream",
     "text": [
      "29189160\n",
      "1287\n",
      "715\n"
     ]
    }
   ],
   "source": [
    "# combinations less my hand of 5 cards - 29 million\n",
    "known = 5 + 1\n",
    "left = 6+6+9 - 324\n",
    "324 * (13 >> nCombinations >> 5) * (8 >> nCombinations >> 4) * (4 >> nCombinations >> 4) >> PP\n",
    "(13 >> nCombinations >> 5) >> PP\n",
    "(13 >> nCombinations >> 4) >> PP;"
   ]
  },
  {
   "cell_type": "code",
   "execution_count": 4,
   "metadata": {},
   "outputs": [
    {
     "data": {
      "text/plain": [
       "(4368, 416988)"
      ]
     },
     "execution_count": 4,
     "metadata": {},
     "output_type": "execute_result"
    }
   ],
   "source": [
    "21 - 5 >> nCombinations >> 5, (21 - 5 - 3 >> nCombinations >> 5) * 6 * 6 * 9"
   ]
  },
  {
   "cell_type": "code",
   "execution_count": 5,
   "metadata": {},
   "outputs": [
    {
     "data": {
      "text/plain": [
       "(8568, 324)"
      ]
     },
     "execution_count": 5,
     "metadata": {},
     "output_type": "execute_result"
    }
   ],
   "source": [
    "18 >> nCombinations >> 5, 6 * 6 * 9"
   ]
  },
  {
   "cell_type": "code",
   "execution_count": 6,
   "metadata": {},
   "outputs": [
    {
     "data": {
      "text/plain": [
       "1330"
      ]
     },
     "execution_count": 6,
     "metadata": {},
     "output_type": "execute_result"
    }
   ],
   "source": [
    "21 >> nCombinations >> 3"
   ]
  },
  {
   "cell_type": "code",
   "execution_count": 7,
   "metadata": {},
   "outputs": [
    {
     "data": {
      "text/plain": [
       "2074369080655872000"
      ]
     },
     "execution_count": 7,
     "metadata": {},
     "output_type": "execute_result"
    }
   ],
   "source": [
    "(18 >> nPermutations >> 18) * 324\n",
    "250_092_722_880\n",
    "222_713_620_919_193_600\n",
    "2_074_369_080_655_872_000"
   ]
  },
  {
   "cell_type": "markdown",
   "metadata": {},
   "source": [
    "#### TODO\n",
    "- display counts for likelihood after display the table - i.e. how many suggestions are made inc own cards, by round number?\n",
    "- calculate number of combinations for the whole model - reduce down as stuff gets known\n",
    "- display combination count and unknown card count for each player\n",
    "- show prior & posterior\n",
    "\n",
    "- make PP a coppertop fn\n",
    "- pmfs of prior\n",
    "- show my info then public info for each player\n",
    "- sum count for likelihood them over all the games in the sheet\n",
    "- do updates for individual player models\n",
    "- figure how to do update for global model\n",
    "\n",
    "- if someone makes an suggstion - no responses + no accusation -> they must have one or more of the suggestion cards themselves."
   ]
  },
  {
   "cell_type": "code",
   "execution_count": 8,
   "metadata": {},
   "outputs": [],
   "source": [
    "@coppertop\n",
    "def PP(bag:cluedo_bag) -> cluedo_bag:\n",
    "    bag.pad >> rep1(_, bag.handId) >> PP\n",
    "    return bag"
   ]
  },
  {
   "cell_type": "code",
   "execution_count": 13,
   "metadata": {},
   "outputs": [
    {
     "name": "stdout",
     "output_type": "stream",
     "text": [
      "Orchid: 330 -> 204\n",
      "We know Peacock has {Or}\n",
      "We know Green has {Ba}\n",
      "Orchid: 204 -> 204\n",
      "1344000\n",
      "628250\n",
      "421150\n",
      "                                  Me          Gr          Or          Pe          \n",
      "Green              4    S1 92%    1  -           ? 43%       ? 43%    1  ? 5%     \n",
      "Mustard            3    S1 69%       -        1  -           ? 62%    1  ? 6%     \n",
      "Orchid           -                   -           -           -           X        \n",
      "Peacock            3    S1 49%       -           ? 43%    1  ? 6%        -        \n",
      "Plum               4       127%      -           ? 43%       ? 43%       ? 40%    \n",
      "Scarlet            2    S1 6%        -        1  ? 6%        -           -        \n",
      "----                                                                              \n",
      "Candlestick      -                   X           -           -           -        \n",
      "Dagger           -                   X           -           -           -        \n",
      "Lead Pipe        -                   X           -           -           -        \n",
      "Revolver           3    S1 69%    1  -        1  -           ? 62%    1  ? 6%     \n",
      "Rope               3    S2 44%       -           ? 43%    2  ? 0%        -        \n",
      "Wrench             2       40%    1  -           -           -           ? 40%    \n",
      "----                                                                              \n",
      "Kitchen          -                   X           -           -           -        \n",
      "Ballroom         -                   -           X           -           -        \n",
      "Conservatory       2    S2 0%     1  -           -           -        2  ? 0%     \n",
      "Billiard Room      4       127%      -           ? 43%       ? 43%       ? 40%    \n",
      "Library            4       127%      -           ? 43%       ? 43%       ? 40%    \n",
      "Study              4       127%      -           ? 43%       ? 43%       ? 40%    \n",
      "Hall               4       127%      -           ? 43%       ? 43%       ? 40%    \n",
      "Lounge             4    S1 90%       -           ? 43%    1  ? 6%        ? 40%    \n",
      "Dining Room      -                   X           -           -           -        \n"
     ]
    }
   ],
   "source": [
    "Me = Pl\n",
    "events = [\n",
    "    \n",
    "    [Me, Gr, Re, Ba], [Gr, Ba],\n",
    "    [Gr, Mu, Re, Ki], Or - one,\n",
    "    [Or, Or, Ro, Lo], Pe - one,\n",
    "    [Pe, Gr, Da, Co], [Me, Da],\n",
    "    \n",
    "    [Me, Or, Wr, Co], Gr, Or, [Pe, Or],\n",
    "    [Gr, Sc, Ca, Ki], Or, Pe, [Me, Ca],\n",
    "    [Or, Pe, Ro, Ba], Pe, Me, Gr - one,\n",
    "    [Pe, Mu, Re, Co], Me, Gr, Or - one,\n",
    "    \n",
    "#     [Me, Sc, Wr, Bi], [Gr, Bi],         # Sc, Wr, Co\n",
    "#     [Gr, Sc, Le, Ba], Or, Pe, [Me, Le],\n",
    "    \n",
    "#     [Or, Pe, Re, Co], Pe, Me, Gr,   # won\n",
    "    \n",
    "]\n",
    "\n",
    "like = {0:100, 1:10, 2:5, 3:0}\n",
    "bag = createBag(Me, [Ki, Di, Le, Da, Ca], {Gr: 5, Or: 4, Pe: 4}) \\\n",
    "    >> figureKnown >> events >> processResponses >> events >> processSuggestions(_, _, like) >> events\n",
    "bag >> PP;"
   ]
  },
  {
   "cell_type": "code",
   "execution_count": 14,
   "metadata": {},
   "outputs": [
    {
     "name": "stdout",
     "output_type": "stream",
     "text": [
      "We know Orchid has {Ro}\n",
      "We know Green has {Bi}\n",
      "We know Green has {Ha}\n",
      "We know Orchid has {Di}\n",
      "We know Green has {Li}\n",
      "We know Green has {Pl}\n",
      "6000000\n",
      "21000000\n",
      "17000000\n",
      "                                  Me          Gr          Or          Pe          \n",
      "Green            X                   -           -           -           -        \n",
      "Mustard          -         109%      -           ? 16%       ? 28%       ? 64%    \n",
      "Orchid           -                   X           -           -           -        \n",
      "Peacock          -         109%      -           ? 16%       ? 28%       ? 64%    \n",
      "Plum             -                   -           X           -           -        \n",
      "Scarlet          -                   X           -           -           -        \n",
      "----                                                                              \n",
      "Candlestick      -                   X           -           -           -        \n",
      "Dagger           -         109%      -           ? 16%       ? 28%       ? 64%    \n",
      "Lead Pipe        -                   X           -           -           -        \n",
      "Revolver         X                   -           -           -           -        \n",
      "Rope             -                   -           -           X           -        \n",
      "Wrench           -                   X           -           -           -        \n",
      "----                                                                              \n",
      "Kitchen          -         109%      -           ? 16%       ? 28%       ? 64%    \n",
      "Ballroom         -         93%       -           -           ? 28%       ? 64%    \n",
      "Conservatory     X                   -           -           -           -        \n",
      "Billiard Room    -                   -           X           -           -        \n",
      "Library          -                   -           X           -           -        \n",
      "Study            -         109%      -           ? 16%       ? 28%       ? 64%    \n",
      "Hall             -                   -           X           -           -        \n",
      "Lounge           -      S1 57%       -           ? 16%       ? 28%       ? 11%    \n",
      "Dining Room      -                   -           -           X           -        \n"
     ]
    }
   ],
   "source": [
    "Me = Pl\n",
    "events = [\n",
    "    \n",
    "    [Gr, Or, Ro, Ba], Or-one,\n",
    "    [Or, Or, Le, Di], Pe, [Me, Le],\n",
    "    [Pe, Gr, Ro, Bi], Me, Gr-one,\n",
    "#     [Or, Ro], \n",
    "    [Gr, Bi],\n",
    "    [Me, Gr, Ro, Ba], Gr, [Or, Ro],\n",
    "    \n",
    "    [Gr, Pl, Wr, Co], Or, Pe, [Me, Wr],\n",
    "    [Or, Gr, Re, Ha], Pe, Me, Gr-one,\n",
    "    [Pe, Pl, Wr, Co], [Me, Wr],\n",
    "    [Me, Pl, Pl, Co], [Gr, Pl],\n",
    "    \n",
    "    [Gr, Gr, Re, Di], Or-one,\n",
    "    [Or, Gr, Re, Li], Pe, Me, Gr-one,\n",
    "    [Pe, Pl, Ro, Lo], Me, Gr-one,\n",
    "    [Gr, Ha],\n",
    "    [Or, Di],\n",
    "    [Gr, Li],\n",
    "    [Me, Gr, Re, Co], Gr, Or, Pe\n",
    "    \n",
    "]\n",
    "\n",
    "like = {0:100, 1:10, 2:5, 3:0}\n",
    "# 60ms\n",
    "bag = createBag(Me, [Wr, Le, Ca, Sc, Or], {Gr: 5, Or: 4, Pe: 4}) \\\n",
    "    >> figureKnown >> events >> processResponses >> events >> processSuggestions(_, _, like) >> events\n",
    "bag >> PP;"
   ]
  },
  {
   "cell_type": "code",
   "execution_count": 15,
   "metadata": {},
   "outputs": [
    {
     "name": "stdout",
     "output_type": "stream",
     "text": [
      "Peacock: 495 -> 285\n",
      "23380\n",
      "23625\n",
      "2048100\n",
      "                                  Me          Gr          Or          Pe          \n",
      "Green              4       94%       -           ? 24%       ? 38%       ? 31%    \n",
      "Mustard            4       94%       -           ? 24%       ? 38%       ? 31%    \n",
      "Orchid           -                   -           X           -           -        \n",
      "Peacock          -                   X           -           -           -        \n",
      "Plum             -                   -           X           -           -        \n",
      "Scarlet            4       94%       -           ? 24%       ? 38%       ? 31%    \n",
      "----                                                                              \n",
      "Candlestick        4       94%       -           ? 24%       ? 38%       ? 31%    \n",
      "Dagger           -                   X           -           -           -        \n",
      "Lead Pipe          3    S1 30%       -           ? 24%    1  ? 6%        -        \n",
      "Revolver           3    S1 61%       -        1  ? 3%        -           ? 58%    \n",
      "Rope               4    S2 63%    2  -           ? 24%       ? 38%    2  ? 0%     \n",
      "Wrench             4       94%       -           ? 24%       ? 38%       ? 31%    \n",
      "----                                                                              \n",
      "Kitchen          -                   X           -           -           -        \n",
      "Ballroom           3    S1 30%    1  -           ? 24%    1  ? 6%        -        \n",
      "Conservatory     -                   X           -           -           -        \n",
      "Billiard Room      4       94%    1  -           ? 24%       ? 38%       ? 31%    \n",
      "Library            3    S1 61%       -        1  ? 3%        -           ? 58%    \n",
      "Study              4       94%       -           ? 24%       ? 38%       ? 31%    \n",
      "Hall             -                   X           -           -           -        \n",
      "Lounge             4       94%       -           ? 24%       ? 38%       ? 31%    \n",
      "Dining Room        4       94%       -           ? 24%       ? 38%       ? 31%    \n"
     ]
    }
   ],
   "source": [
    "Me = Pl\n",
    "events = [\n",
    "    \n",
    "    [Pe, Pl, Ro, Ki], [Me, Ki],\n",
    "    [Me, Pl, Ro, Ba], [Gr, Pl],\n",
    "    [Gr, Pe, Re, Li], Or, Pe - one,\n",
    "    #Or low roll\n",
    "    \n",
    "    [Pe, Or, Ro, Co], [Me, Co],\n",
    "    [Me, Or, Ro, Bi], [Gr, Or],\n",
    "    #Gr low roll\n",
    "    [Or, Pe, Le, Ba], Pe, [Me, Pe],\n",
    "    \n",
    "#     [Pe, Mu, Le, Ba], Me, Gr, Or,\n",
    "    \n",
    "]\n",
    "\n",
    "like = {0:100, 1:10, 2:5, 3:0}\n",
    "bag = createBag(Me, [Ki, Ha, Co, Da, Pe], {Gr: 5, Or: 4, Pe: 4}) \\\n",
    "    >> figureKnown >> events >> processResponses >> events >> processSuggestions(_, _, like) >> events\n",
    "bag >> PP;"
   ]
  },
  {
   "cell_type": "code",
   "execution_count": null,
   "metadata": {},
   "outputs": [],
   "source": []
  },
  {
   "cell_type": "code",
   "execution_count": null,
   "metadata": {},
   "outputs": [],
   "source": []
  },
  {
   "cell_type": "code",
   "execution_count": null,
   "metadata": {},
   "outputs": [],
   "source": []
  },
  {
   "cell_type": "code",
   "execution_count": null,
   "metadata": {},
   "outputs": [],
   "source": []
  }
 ],
 "metadata": {
  "kernelspec": {
   "display_name": "Python 3",
   "language": "python",
   "name": "python3"
  },
  "language_info": {
   "codemirror_mode": {
    "name": "ipython",
    "version": 3
   },
   "file_extension": ".py",
   "mimetype": "text/x-python",
   "name": "python",
   "nbconvert_exporter": "python",
   "pygments_lexer": "ipython3",
   "version": "3.9.2"
  }
 },
 "nbformat": 4,
 "nbformat_minor": 4
}
