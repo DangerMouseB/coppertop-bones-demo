{
 "cells": [
  {
   "cell_type": "code",
   "execution_count": 1,
   "metadata": {},
   "outputs": [],
   "source": [
    "from coppertop.core import ensurePath, unload\n",
    "#'/Users/david/repos/github/DangerMouseB/coppertop/src/std' >> ensurePath       # <= set this to your path\n",
    "from importlib import reload"
   ]
  },
  {
   "cell_type": "code",
   "execution_count": 2,
   "metadata": {},
   "outputs": [
    {
     "data": {
      "text/plain": [
       "npcolvec"
      ]
     },
     "execution_count": 2,
     "metadata": {},
     "output_type": "execute_result"
    }
   ],
   "source": [
    "import numpy, scipy\n",
    "\n",
    "from coppertop.pipe import *\n",
    "from coppertop.core import *\n",
    "from ribs.types import N, num, Nm, Nn\n",
    "from bones.metatypes import BType, S\n",
    "from dm.core.types import adhoc\n",
    "from dm.core import typeOf, to, _, check, box, tvarray\n",
    "from dm.core.linalg import to\n",
    "from dm.core.linalg import QR, dot, solveTriangular, matrix, colvec, rowvec, T\n",
    "npmatrix = matrix[tvarray].setPP('npmatrix')\n",
    "(matrix & colvec & tvarray).setPP('npcolvec')"
   ]
  },
  {
   "cell_type": "markdown",
   "metadata": {},
   "source": [
    "#### Solve A.x = b using QR decomposition\n",
    "\n",
    "```\n",
    "A.x = b\n",
    "Q.R.x = b\n",
    "Q'.Q.R.x = Q'.b but Q'.Q = I    Q is orthogonal, R is upper right\n",
    "R.x = Q'.b\n",
    "```"
   ]
  },
  {
   "cell_type": "code",
   "execution_count": 3,
   "metadata": {},
   "outputs": [
    {
     "data": {
      "text/plain": [
       "[npmatrix([[ 5]\n",
       "  [13]]),\n",
       " npcolvec,\n",
       " npmatrix([[-1.]\n",
       "  [ 1.]])]"
      ]
     },
     "execution_count": 3,
     "metadata": {},
     "output_type": "execute_result"
    }
   ],
   "source": [
    "A = [[1, 2], [3, 5]] >> to(_,npmatrix)\n",
    "b = [1, 2] >> to(_,npmatrix)\n",
    "qr = A >> QR\n",
    "x = qr.R >> solveTriangular >> (qr.Q.T @ b)\n",
    "\n",
    "A @ x >> check >> numpy.allclose >> b\n",
    "[A @ b, b >> typeOf, x]"
   ]
  },
  {
   "cell_type": "code",
   "execution_count": 4,
   "metadata": {},
   "outputs": [
    {
     "data": {
      "text/plain": [
       "npmatrix([[1 3]\n",
       " [2 4]])"
      ]
     },
     "execution_count": 4,
     "metadata": {},
     "output_type": "execute_result"
    }
   ],
   "source": [
    "[[1, 2], [3, 4]] >> to(_,npmatrix) >> T"
   ]
  },
  {
   "cell_type": "code",
   "execution_count": 5,
   "metadata": {},
   "outputs": [],
   "source": [
    "a = [[1,2],[3,4]] >> to(_,npmatrix)\n",
    "b = [1,2] >> to(_,npmatrix)\n",
    "\n",
    "# conclusion | should be a type coercion operator not a constructor nor a convertor"
   ]
  },
  {
   "cell_type": "code",
   "execution_count": 6,
   "metadata": {},
   "outputs": [],
   "source": [
    "@coppertop(style=binary2)\n",
    "def mul(a:npmatrix, b:npmatrix) -> npmatrix:\n",
    "    return a @ b\n"
   ]
  },
  {
   "cell_type": "code",
   "execution_count": 7,
   "metadata": {},
   "outputs": [
    {
     "data": {
      "text/plain": [
       "npmatrix([[ 5]\n",
       " [11]])"
      ]
     },
     "execution_count": 7,
     "metadata": {},
     "output_type": "execute_result"
    }
   ],
   "source": [
    "a >> mul >> b"
   ]
  },
  {
   "cell_type": "code",
   "execution_count": 8,
   "metadata": {},
   "outputs": [
    {
     "data": {
      "text/plain": [
       "array([[0.03873739, 0.37647641, 0.45795461, ..., 0.61702988, 0.00676875,\n",
       "        0.76148778],\n",
       "       [0.04037195, 0.77357374, 0.49760901, ..., 0.13264682, 0.70189323,\n",
       "        0.9081113 ],\n",
       "       [0.53062104, 0.99152682, 0.44343265, ..., 0.69014896, 0.97925206,\n",
       "        0.50823056],\n",
       "       ...,\n",
       "       [0.80554618, 0.45551857, 0.40173255, ..., 0.73479942, 0.17064356,\n",
       "        0.53019831],\n",
       "       [0.65893077, 0.87098517, 0.01900905, ..., 0.84784069, 0.96648518,\n",
       "        0.31614851],\n",
       "       [0.57591727, 0.95387524, 0.10789796, ..., 0.19207362, 0.99847151,\n",
       "        0.65474482]])"
      ]
     },
     "execution_count": 8,
     "metadata": {},
     "output_type": "execute_result"
    }
   ],
   "source": [
    "numpy.random.uniform(size=(100,100))"
   ]
  },
  {
   "cell_type": "code",
   "execution_count": 9,
   "metadata": {
    "tags": []
   },
   "outputs": [],
   "source": [
    "# numpy.random >> HH"
   ]
  },
  {
   "cell_type": "code",
   "execution_count": 10,
   "metadata": {},
   "outputs": [
    {
     "data": {
      "text/plain": [
       "'[[0.30 0.62 0.34 ... 0.60 0.35 0.63]\\n [0.79 0.90 0.42 ... 0.83 0.63 0.35]\\n [0.36 0.14 0.28 ... 0.46 0.75 0.74]\\n ...\\n [0.71 0.07 0.09 ... 0.64 0.63 0.56]\\n [0.47 0.55 0.84 ... 0.77 0.27 0.35]\\n [0.45 0.21 0.41 ... 0.87 0.08 0.31]]'"
      ]
     },
     "execution_count": 10,
     "metadata": {},
     "output_type": "execute_result"
    }
   ],
   "source": [
    "numpy.array2string(numpy.random.uniform(size=(100,100)), precision=2, floatmode='fixed')"
   ]
  },
  {
   "cell_type": "code",
   "execution_count": 11,
   "metadata": {
    "tags": []
   },
   "outputs": [],
   "source": [
    "# numpy.array2string >> HH"
   ]
  },
  {
   "cell_type": "code",
   "execution_count": 12,
   "metadata": {},
   "outputs": [
    {
     "data": {
      "text/plain": [
       "npmatrix"
      ]
     },
     "execution_count": 12,
     "metadata": {},
     "output_type": "execute_result"
    }
   ],
   "source": [
    "(a @ numpy.array([[1,2], [3,4]]))._t"
   ]
  },
  {
   "cell_type": "code",
   "execution_count": 13,
   "metadata": {},
   "outputs": [
    {
     "data": {
      "text/plain": [
       "npmatrix"
      ]
     },
     "execution_count": 13,
     "metadata": {},
     "output_type": "execute_result"
    }
   ],
   "source": [
    "(a @ b)._t"
   ]
  },
  {
   "cell_type": "code",
   "execution_count": null,
   "metadata": {},
   "outputs": [],
   "source": []
  },
  {
   "cell_type": "markdown",
   "metadata": {},
   "source": [
    "#### OLS - Normal equations\n",
    "\n",
    "```\n",
    "XT.X.B = XT.Y\n",
    "```\n",
    "\n",
    "<br>\n",
    "\n",
    "### OLS Example\n",
    "\n",
    "#### Generate some random data"
   ]
  },
  {
   "cell_type": "code",
   "execution_count": 14,
   "metadata": {},
   "outputs": [],
   "source": [
    "#lhs = X >> TT @ X\n"
   ]
  },
  {
   "cell_type": "code",
   "execution_count": 15,
   "metadata": {},
   "outputs": [
    {
     "data": {
      "text/plain": [
       "numpy.random._generator.Generator"
      ]
     },
     "execution_count": 15,
     "metadata": {},
     "output_type": "execute_result"
    }
   ],
   "source": [
    "rng = numpy.random.default_rng()\n",
    "rng >> typeOf"
   ]
  },
  {
   "cell_type": "markdown",
   "metadata": {},
   "source": [
    "#### Do fit"
   ]
  },
  {
   "cell_type": "code",
   "execution_count": null,
   "metadata": {},
   "outputs": [],
   "source": []
  },
  {
   "cell_type": "markdown",
   "metadata": {},
   "source": [
    "#### Check stats"
   ]
  },
  {
   "cell_type": "code",
   "execution_count": null,
   "metadata": {},
   "outputs": [],
   "source": []
  },
  {
   "cell_type": "code",
   "execution_count": null,
   "metadata": {},
   "outputs": [],
   "source": []
  },
  {
   "cell_type": "code",
   "execution_count": null,
   "metadata": {},
   "outputs": [],
   "source": []
  },
  {
   "cell_type": "code",
   "execution_count": null,
   "metadata": {},
   "outputs": [],
   "source": []
  }
 ],
 "metadata": {
  "kernelspec": {
   "display_name": "Python 3",
   "language": "python",
   "name": "python3"
  },
  "language_info": {
   "codemirror_mode": {
    "name": "ipython",
    "version": 3
   },
   "file_extension": ".py",
   "mimetype": "text/x-python",
   "name": "python",
   "nbconvert_exporter": "python",
   "pygments_lexer": "ipython3",
   "version": "3.9.2"
  }
 },
 "nbformat": 4,
 "nbformat_minor": 4
}
