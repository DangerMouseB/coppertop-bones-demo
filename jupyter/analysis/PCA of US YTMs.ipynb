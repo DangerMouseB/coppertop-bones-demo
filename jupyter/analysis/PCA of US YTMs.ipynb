{
 "cells": [
  {
   "cell_type": "code",
   "execution_count": 1,
   "metadata": {},
   "outputs": [],
   "source": [
    "from coppertop.core import ensurePath, unload\n",
    "# set the following to your paths\n",
    "'/Users/david/repos/github/DangerMouseB/coppertop/src/std' >> ensurePath\n",
    "'/Users/david/repos/github/DangerMouseB/coppertop/src/dm' >> ensurePath\n",
    "from importlib import reload"
   ]
  },
  {
   "cell_type": "code",
   "execution_count": 2,
   "metadata": {},
   "outputs": [],
   "source": [
    "# %%bones\n",
    "\n",
    "# // import common functions - including drop, fields, inject, join, at:put:, log, filter, and, or, not, to, startsWith, etc\n",
    "# // and common types - date, time, datetimetz, tz, num, index, offset, count, list, set, map, hash, deflist, matrix, vec, tensor, path, filename, pfn, str, str, \n",
    "# //     num, idx\n",
    "\n",
    "# include std.common\n",
    "# from std.common import *\n",
    "\n",
    "# <:ytm: num(`ytm)>\n",
    "# <:usYtms: {`date`_1m`_2m`_3m`_6m`_1y`_2y`_3y`_4y`_5y`_7y`_10y`_20y`_30y!(date,ytm,ytm,ytm,ytm,ytm,ytm,ytm,ytm,ytm,ytm,ytm,ytm,ytm)}>\n",
    "# oldFields: `\"Date\"`\"1 Mo\"`\"2 Mo\"`\"3 Mo\"`\"6 Mo\"`\"1 Yr\"`\"2 Yr\"`\"3 Yr\"`\"5 Yr\"`\"7 Yr\"`\"10 Yr\"`\"20 Yr\"`\"30 Yr\"\n",
    "\n",
    "# ytms: \"./data\" <:path> join (\"us yields.csv\" <:filename>) fromCsv(, <:usYtms>, )(,oldFields)"
   ]
  },
  {
   "cell_type": "code",
   "execution_count": 3,
   "metadata": {},
   "outputs": [],
   "source": [
    "# imports\n",
    "\n",
    "import datetime\n",
    "\n",
    "from dm.core import _, join, startsWith, inject, to, take, tvarray, fields, fromCsv, drop, agg, at, atPut, filter, \\\n",
    "    stats, vec, check, different, sameShape\n"
   ]
  },
  {
   "cell_type": "code",
   "execution_count": 4,
   "metadata": {},
   "outputs": [],
   "source": [
    "### load the ytm data\n",
    "\n",
    "renames = {\n",
    "    'Date'  : 'date',\n",
    "    '1 Mo'  : '_1m',\n",
    "    '2 Mo'  : '_2m',\n",
    "    '3 Mo'  : '_3m',\n",
    "    '6 Mo'  : '_6m',\n",
    "    '1 Yr'  : '_1y',\n",
    "    '2 Yr'  : '_2y',\n",
    "    '3 Yr'  : '_3y',\n",
    "    '5 Yr'  : '_5y',\n",
    "    '7 Yr'  : '_7y',\n",
    "    '10 Yr' : '_10y',\n",
    "    '20 Yr' : '_20y',\n",
    "    '30 Yr' : '_30y'\n",
    "}\n",
    "\n",
    "\n",
    "conversions = dict(\n",
    "    date=vec.to(_, datetime.date, 'mm/dd/yy'),\n",
    "    _1m=vec.to(_, float),\n",
    "    _2m=vec.to(_, float),\n",
    "    _3m=vec.to(_, float),\n",
    "    _6m=vec.to(_, float),\n",
    "    _1y=vec.to(_, float),\n",
    "    _2y=vec.to(_, float),\n",
    "    _3y=vec.to(_, float),\n",
    "    _5y=vec.to(_, float),\n",
    "    _7y=vec.to(_, float),\n",
    "    _10y=vec.to(_, float),\n",
    "    _20y=vec.to(_, float),\n",
    "    _30y=vec.to(_, float),\n",
    ")\n",
    "\n",
    "path = './data'\n",
    "filename = 'us yields.csv'\n",
    "ytms = (path + '/' + filename) >> fromCsv(_, renames, conversions)\n"
   ]
  },
  {
   "cell_type": "code",
   "execution_count": 5,
   "metadata": {},
   "outputs": [],
   "source": [
    "# %%bones\n",
    "\n",
    "# include std.agg, std.wrangling\n",
    "# from std.agg import agg, filter, fields, take, to     // imported as overloads to the ones in std.common\n",
    "# from std.wrangling import diff\n",
    "# from std.maths import cov\n",
    "\n",
    "# ytms2: ytms fields drop `date`_2m inject(,agg(ytms),) {[p,f] \n",
    "#     p at: `log join (f drop 1) put: p f log\n",
    "# }\n"
   ]
  },
  {
   "cell_type": "code",
   "execution_count": 6,
   "metadata": {
    "tags": []
   },
   "outputs": [
    {
     "name": "stderr",
     "output_type": "stream",
     "text": [
      "/Users/david/repos/github/DangerMouseB/coppertop/src/std/coppertop/std/vec.py:23: RuntimeWarning: divide by zero encountered in log\n",
      "  return numpy.log(v)\n"
     ]
    }
   ],
   "source": [
    "# take logs\n",
    "\n",
    "ytms2 = ytms \\\n",
    "    >> fields >> drop >> ['date', '_2m'] \\\n",
    "    >> inject(_, agg(ytms), _) >> (lambda prior, field:\n",
    "        prior >> atPut(_,\n",
    "            'log' >> join >> (field >> drop >> 1),\n",
    "            prior >> at(_, field) >> vec.log\n",
    "        )\n",
    "    )"
   ]
  },
  {
   "cell_type": "code",
   "execution_count": 7,
   "metadata": {},
   "outputs": [],
   "source": [
    "# %%bones\n",
    "\n",
    "# d1: 2021.01.01\n",
    "# d2: 2021.04.01\n",
    "# usD1ToD2: ytms2 filter {d1 <= x.date and x.date < d2}\n"
   ]
  },
  {
   "cell_type": "code",
   "execution_count": 8,
   "metadata": {},
   "outputs": [],
   "source": [
    "# filter for the desired date range\n",
    "\n",
    "d1 = '2021.01.01' >> to(_, datetime.date, 'yyyy.mm.dd')\n",
    "d2 = '2021.04.01' >> to(_, datetime.date, 'yyyy.mm.dd')\n",
    "\n",
    "usD1ToD2 = ytms2 >> filter >> (lambda r: d1 <= r.date and r.date < d2)"
   ]
  },
  {
   "cell_type": "code",
   "execution_count": 9,
   "metadata": {},
   "outputs": [],
   "source": [
    "# %% bones\n",
    "\n",
    "# usDiffs: usD1ToD2 fields drop(,`date) inject(,agg(),) {[p,f] p at: f put: usD1ToD2 f diff}\n",
    "# usDiffCov: usDiffs take (usDiffs fields filter (startsWith(,`_))) to(,<:matrix>) cov\n",
    "# usLogDiffCov: usDiffs take (usDiffs fields filter (startsWith(,`log))) to(,<:matrix>) cov\n"
   ]
  },
  {
   "cell_type": "code",
   "execution_count": 10,
   "metadata": {},
   "outputs": [],
   "source": [
    "# diff and calc covariance matrices\n",
    "\n",
    "usDiffs = usD1ToD2 \\\n",
    "    >> fields >> drop >> 'date' \\\n",
    "    >> inject(_, agg(), _) >> (lambda p, f:\n",
    "        p >> atPut(_, f, usD1ToD2 >> at(_, f) >> vec.diff)\n",
    "    )\n",
    "\n",
    "usDiffCov = usDiffs \\\n",
    "    >> take >> (usDiffs >> fields >> filter >> (startsWith(_, '_'))) \\\n",
    "    >> to(_, tvarray) >> stats.core.cov\n",
    "\n",
    "usLogDiffCov = usDiffs \\\n",
    "    >> take >> (usDiffs >> fields >> filter >> (startsWith(_, 'log'))) \\\n",
    "    >> to(_, tvarray) >> stats.core.cov\n",
    "\n"
   ]
  },
  {
   "cell_type": "code",
   "execution_count": 11,
   "metadata": {},
   "outputs": [
    {
     "data": {
      "text/plain": [
       "tvarray([[ 2.42424242e-04  5.96969697e-04  2.54545455e-04 ...  3.39393939e-04\n",
       "  -8.18181818e-05  9.39393939e-05]\n",
       " [ 5.96969697e-04  1.88106061e-03  7.93181818e-04 ...  1.03257576e-03\n",
       "  -3.50000000e-04  2.80303030e-04]\n",
       " [ 2.54545455e-04  7.93181818e-04  3.65909091e-04 ...  4.65909091e-04\n",
       "  -7.72727273e-05  1.22727273e-04]\n",
       " ...\n",
       " [ 3.39393939e-04  1.03257576e-03  4.65909091e-04 ...  6.44696970e-04\n",
       "  -1.68181818e-04  1.46969697e-04]\n",
       " [-8.18181818e-05 -3.50000000e-04 -7.72727273e-05 ... -1.68181818e-04\n",
       "   4.27272727e-04 -8.18181818e-05]\n",
       " [ 9.39393939e-05  2.80303030e-04  1.22727273e-04 ...  1.46969697e-04\n",
       "  -8.18181818e-05  8.78787879e-05]])"
      ]
     },
     "execution_count": 11,
     "metadata": {},
     "output_type": "execute_result"
    }
   ],
   "source": [
    "usDiffCov \\\n",
    "    >> check >> sameShape >> usLogDiffCov \\\n",
    "    >> check >> different >> usLogDiffCov\n"
   ]
  },
  {
   "cell_type": "code",
   "execution_count": null,
   "metadata": {},
   "outputs": [],
   "source": []
  }
 ],
 "metadata": {
  "kernelspec": {
   "display_name": "Python 3 (ipykernel)",
   "language": "python",
   "name": "python3"
  },
  "language_info": {
   "codemirror_mode": {
    "name": "ipython",
    "version": 3
   },
   "file_extension": ".py",
   "mimetype": "text/x-python",
   "name": "python",
   "nbconvert_exporter": "python",
   "pygments_lexer": "ipython3",
   "version": "3.9.13"
  }
 },
 "nbformat": 4,
 "nbformat_minor": 4
}
